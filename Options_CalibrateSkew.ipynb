{
 "cells": [
  {
   "cell_type": "code",
   "execution_count": 1,
   "id": "ea827c3e",
   "metadata": {},
   "outputs": [],
   "source": [
    "import numpy as np\n",
    "from scipy.optimize import minimize\n",
    "from scipy.optimize import curve_fit\n"
   ]
  },
  {
   "cell_type": "code",
   "execution_count": 2,
   "id": "832bb953",
   "metadata": {},
   "outputs": [],
   "source": [
    "def sabr_implied_volatility(fwd_price, strike, time_to_expiry, alpha, beta, rho, nu, full=False):\n",
    "\n",
    "#    Calculate SABR implied volatility using the approximation formula with the higher order term.\n",
    "    \n",
    "#    fwd_price : Forward price of the underlying asset\n",
    "#    strike : Strike price\n",
    "#    time_to_expiry : Time to maturity (in years)\n",
    "#    alpha : Volatility of volatility (vol-of-vol)\n",
    "#    beta : Parameter that defines skew (typically between 0 and 1)\n",
    "#    rho : Correlation between the asset price and volatility\n",
    "#    nu : Initial volatility\n",
    "#    return : SABR implied volatility\n",
    "        \n",
    "    #one minus beta term\n",
    "    oneMinusBeta = 1 - beta\n",
    "    \n",
    "    # First term: main term (F * K scaling)\n",
    "    main_denominator = (fwd_price * strike)**(oneMinusBeta / 2)\n",
    "    \n",
    "    # Second term: volatility of volatility correction\n",
    "    volatility_of_volatility_term = (oneMinusBeta**2 / 24) * \\\n",
    "                                    (alpha**2 / (fwd_price * strike)) * \\\n",
    "                                     time_to_expiry\n",
    "    \n",
    "    # Third term: correlation adjustment\n",
    "    correlation_term = ((rho * beta * nu) / 4) * \\\n",
    "                       ((fwd_price / strike)**(oneMinusBeta / 2))\n",
    "    \n",
    "    # Fourth term: higher-order correction with the 1920 term\n",
    "    if full:\n",
    "        higher_order_term = ((2 - 3 * rho**2) / 1920) * \\\n",
    "                             (alpha**4 / ((fwd_price * strike)**2)) * \\\n",
    "                              time_to_expiry**2\n",
    "    else:\n",
    "        higher_order_term = 0\n",
    "    \n",
    "    # Combine all terms to compute the implied volatility\n",
    "    implied_vol = (alpha / main_denominator) * \\\n",
    "                  (1 + volatility_of_volatility_term + correlation_term + higher_order_term)\n",
    "    \n",
    "    return implied_vol\n"
   ]
  },
  {
   "cell_type": "code",
   "execution_count": 3,
   "id": "05fb749d",
   "metadata": {},
   "outputs": [],
   "source": [
    "def sabr_objective(alphaRhoNu, forward_price, strikes, time_to_expiry, volatilities, beta, full=False):\n",
    "    alpha, rho, nu = alphaRhoNu\n",
    "    sabr_implied_volatility_vectored = np.vectorize(sabr_implied_volatility)\n",
    "    model_vols = np.array([sabr_implied_volatility_vectored(forward_price, strikes, time_to_expiry, \n",
    "                                                            alpha, beta, rho, nu, full) for K in strikes])\n",
    "    error = model_vols - volatilities\n",
    "    return np.sum(error**2)\n",
    "\n",
    "#result = minimize(objective, initial_guess, args=(strikes, observed_vols, forward_price, alpha),\n",
    "#                  bounds=bounds, method='L-BFGS-B')\n",
    "    "
   ]
  },
  {
   "cell_type": "code",
   "execution_count": 4,
   "id": "67786d4d",
   "metadata": {},
   "outputs": [],
   "source": [
    "def calcWowAlphVols(atmVol, wow, convexity, alpha):\n",
    "    \n",
    "    hiVol = atmVol * (1 + wow + (convexity * -alpha))\n",
    "    loVol = atmVol * (1 - wow + (convexity * -alpha))\n",
    "    \n",
    "    return hiVol, loVol\n",
    "\n",
    "\n",
    "def calcWowAlphPrice(fwdPrice, strikePrice, timeToExp, putCall, atmVol, alpha, wow, convexity):\n",
    "    \n",
    "    hiVol = atmVol * (1 + wow + (convexity * -alpha))\n",
    "    loVol = atmVol * (1 - wow + (convexity * -alpha))\n",
    "    \n",
    "    pFunc = np.vectorize(calcBSPrice)\n",
    "    hiVolPrice = pFunc(hiVol, fwdPrice, strikePrice, timeToExp, putCall)\n",
    "    loVolPrice = pFunc(loVol, fwdPrice, strikePrice, timeToExp, putCall)\n",
    "    \n",
    "    wowAlphaPrice = (hiVolPrice + loVolPrice) / 2\n",
    "    \n",
    "    return wowAlphaPrice\n",
    "\n",
    "    \n",
    "def calcWowAlphPriceVectors(indepVars, wow, convexity):\n",
    "\n",
    "    fwdPrice, strikePrice, timeToExp, atmVol, alpha = indepVars\n",
    "     \n",
    "    putCall = makePutCall(fwdPrice, strikePrice)\n",
    "    \n",
    "    wowAlphaPrice = calcWowAlphPrice(fwdPrice, strikePrice, timeToExp, putCall, atmVol, alpha, wow, convexity)\n",
    "        \n",
    "    return wowAlphaPrice\n"
   ]
  }
 ],
 "metadata": {
  "kernelspec": {
   "display_name": "Python 3 (ipykernel)",
   "language": "python",
   "name": "python3"
  },
  "language_info": {
   "codemirror_mode": {
    "name": "ipython",
    "version": 3
   },
   "file_extension": ".py",
   "mimetype": "text/x-python",
   "name": "python",
   "nbconvert_exporter": "python",
   "pygments_lexer": "ipython3",
   "version": "3.11.4"
  }
 },
 "nbformat": 4,
 "nbformat_minor": 5
}
